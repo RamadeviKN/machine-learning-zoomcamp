{
  "nbformat": 4,
  "nbformat_minor": 0,
  "metadata": {
    "colab": {
      "provenance": [],
      "authorship_tag": "ABX9TyO/2aTWync+seq8MkATM2mG",
      "include_colab_link": true
    },
    "kernelspec": {
      "name": "python3",
      "display_name": "Python 3"
    },
    "language_info": {
      "name": "python"
    }
  },
  "cells": [
    {
      "cell_type": "markdown",
      "metadata": {
        "id": "view-in-github",
        "colab_type": "text"
      },
      "source": [
        "<a href=\"https://colab.research.google.com/github/RamadeviKN/machine-learning-zoomcamp/blob/main/bank_marketing.ipynb\" target=\"_parent\"><img src=\"https://colab.research.google.com/assets/colab-badge.svg\" alt=\"Open In Colab\"/></a>"
      ]
    },
    {
      "cell_type": "code",
      "execution_count": null,
      "metadata": {
        "id": "TSrolYs5OqAB"
      },
      "outputs": [],
      "source": [
        "mkdir ml_homework"
      ]
    },
    {
      "cell_type": "code",
      "source": [
        "cd ml_homework"
      ],
      "metadata": {
        "colab": {
          "base_uri": "https://localhost:8080/"
        },
        "id": "F2o9CbzMO62A",
        "outputId": "c8f70e8c-eca4-4bd0-9c0b-3776b4be603c"
      },
      "execution_count": null,
      "outputs": [
        {
          "output_type": "stream",
          "name": "stdout",
          "text": [
            "/content/ml_homework\n"
          ]
        }
      ]
    },
    {
      "cell_type": "code",
      "source": [
        "!wget https://github.com/alexeygrigorev/datasets/raw/refs/heads/master/bank-full.csv"
      ],
      "metadata": {
        "colab": {
          "base_uri": "https://localhost:8080/"
        },
        "id": "2KCEhbs2PFyt",
        "outputId": "d260ff62-f92f-483d-96d5-fec9d3c8832b"
      },
      "execution_count": null,
      "outputs": [
        {
          "output_type": "stream",
          "name": "stdout",
          "text": [
            "--2024-10-25 14:28:37--  https://github.com/alexeygrigorev/datasets/raw/refs/heads/master/bank-full.csv\n",
            "Resolving github.com (github.com)... 140.82.112.4\n",
            "Connecting to github.com (github.com)|140.82.112.4|:443... connected.\n",
            "HTTP request sent, awaiting response... 302 Found\n",
            "Location: https://raw.githubusercontent.com/alexeygrigorev/datasets/refs/heads/master/bank-full.csv [following]\n",
            "--2024-10-25 14:28:37--  https://raw.githubusercontent.com/alexeygrigorev/datasets/refs/heads/master/bank-full.csv\n",
            "Resolving raw.githubusercontent.com (raw.githubusercontent.com)... 185.199.108.133, 185.199.109.133, 185.199.110.133, ...\n",
            "Connecting to raw.githubusercontent.com (raw.githubusercontent.com)|185.199.108.133|:443... connected.\n",
            "HTTP request sent, awaiting response... 200 OK\n",
            "Length: 4610348 (4.4M) [text/plain]\n",
            "Saving to: ‘bank-full.csv’\n",
            "\n",
            "bank-full.csv       100%[===================>]   4.40M  --.-KB/s    in 0.09s   \n",
            "\n",
            "2024-10-25 14:28:38 (49.7 MB/s) - ‘bank-full.csv’ saved [4610348/4610348]\n",
            "\n"
          ]
        }
      ]
    },
    {
      "cell_type": "code",
      "source": [
        "pip install pipenv"
      ],
      "metadata": {
        "colab": {
          "base_uri": "https://localhost:8080/"
        },
        "id": "_v3AGSC8PUcf",
        "outputId": "a3b3b6f2-ed18-4507-ddd8-02abe310df1f"
      },
      "execution_count": null,
      "outputs": [
        {
          "output_type": "stream",
          "name": "stdout",
          "text": [
            "Collecting pipenv\n",
            "  Downloading pipenv-2024.2.0-py3-none-any.whl.metadata (19 kB)\n",
            "Requirement already satisfied: certifi in /usr/local/lib/python3.10/dist-packages (from pipenv) (2024.8.30)\n",
            "Requirement already satisfied: packaging>=22 in /usr/local/lib/python3.10/dist-packages (from pipenv) (24.1)\n",
            "Requirement already satisfied: setuptools>=67 in /usr/local/lib/python3.10/dist-packages (from pipenv) (75.1.0)\n",
            "Collecting virtualenv>=20.24.2 (from pipenv)\n",
            "  Downloading virtualenv-20.27.0-py3-none-any.whl.metadata (4.5 kB)\n",
            "Collecting distlib<1,>=0.3.7 (from virtualenv>=20.24.2->pipenv)\n",
            "  Downloading distlib-0.3.9-py2.py3-none-any.whl.metadata (5.2 kB)\n",
            "Requirement already satisfied: filelock<4,>=3.12.2 in /usr/local/lib/python3.10/dist-packages (from virtualenv>=20.24.2->pipenv) (3.16.1)\n",
            "Requirement already satisfied: platformdirs<5,>=3.9.1 in /usr/local/lib/python3.10/dist-packages (from virtualenv>=20.24.2->pipenv) (4.3.6)\n",
            "Downloading pipenv-2024.2.0-py3-none-any.whl (3.0 MB)\n",
            "\u001b[2K   \u001b[90m━━━━━━━━━━━━━━━━━━━━━━━━━━━━━━━━━━━━━━━━\u001b[0m \u001b[32m3.0/3.0 MB\u001b[0m \u001b[31m27.9 MB/s\u001b[0m eta \u001b[36m0:00:00\u001b[0m\n",
            "\u001b[?25hDownloading virtualenv-20.27.0-py3-none-any.whl (3.1 MB)\n",
            "\u001b[2K   \u001b[90m━━━━━━━━━━━━━━━━━━━━━━━━━━━━━━━━━━━━━━━━\u001b[0m \u001b[32m3.1/3.1 MB\u001b[0m \u001b[31m58.0 MB/s\u001b[0m eta \u001b[36m0:00:00\u001b[0m\n",
            "\u001b[?25hDownloading distlib-0.3.9-py2.py3-none-any.whl (468 kB)\n",
            "\u001b[2K   \u001b[90m━━━━━━━━━━━━━━━━━━━━━━━━━━━━━━━━━━━━━━━━\u001b[0m \u001b[32m469.0/469.0 kB\u001b[0m \u001b[31m23.7 MB/s\u001b[0m eta \u001b[36m0:00:00\u001b[0m\n",
            "\u001b[?25hInstalling collected packages: distlib, virtualenv, pipenv\n",
            "Successfully installed distlib-0.3.9 pipenv-2024.2.0 virtualenv-20.27.0\n"
          ]
        }
      ]
    },
    {
      "cell_type": "code",
      "source": [
        "!pipenv --version"
      ],
      "metadata": {
        "colab": {
          "base_uri": "https://localhost:8080/"
        },
        "id": "N62uTj20P_Q-",
        "outputId": "aedf56aa-1817-4345-fbba-9927766eca04"
      },
      "execution_count": null,
      "outputs": [
        {
          "output_type": "stream",
          "name": "stdout",
          "text": [
            "\u001b[1mpipenv\u001b[0m, version 2024.2.0\n"
          ]
        }
      ]
    },
    {
      "cell_type": "markdown",
      "source": [
        "Answer 1 - pipenv, version 2024.2.0"
      ],
      "metadata": {
        "id": "hn_lIQOoRq5O"
      }
    },
    {
      "cell_type": "code",
      "source": [
        "!pipenv install scikit-learn==1.5.2"
      ],
      "metadata": {
        "colab": {
          "base_uri": "https://localhost:8080/"
        },
        "id": "zvA98-ngS_RN",
        "outputId": "a5bdd1b8-de86-4328-dbbd-7dcac784be27"
      },
      "execution_count": null,
      "outputs": [
        {
          "output_type": "stream",
          "name": "stdout",
          "text": [
            "\u001b[1mCreating a virtualenv for this project\u001b[0m\n",
            "Pipfile: \u001b[1;33m/content/ml_homework/\u001b[0m\u001b[1;33mPipfile\u001b[0m\n",
            "\u001b[1mUsing default python from\u001b[0m \u001b[1;33m/usr/bin/\u001b[0m\u001b[1;33mpython3\u001b[0m\u001b[32m3.10.12\u001b[0m\u001b[32m \u001b[0m\u001b[1;32mto create virtualenv\u001b[0m\u001b[1;32m...\u001b[0m\n",
            "\u001b[2K\u001b[32m⠇\u001b[0m Creating virtual environment...\u001b[36mcreated virtual environment CPython3.\u001b[0m\u001b[1;36m10.12\u001b[0m\u001b[36m.final.\u001b[0m\u001b[1;36m0\u001b[0m\u001b[36m-\u001b[0m\u001b[1;36m64\u001b[0m\u001b[36m in 1279ms\u001b[0m\n",
            "\u001b[36m  creator \u001b[0m\u001b[1;36mCPython3Posix\u001b[0m\u001b[1;36m(\u001b[0m\u001b[36mdest\u001b[0m\u001b[36m=\u001b[0m\u001b[36m/root/.local/share/virtualenvs/\u001b[0m\u001b[36mml_homework-sfqKTmep\u001b[0m\u001b[36m, \u001b[0m\u001b[36mclear\u001b[0m\u001b[36m=\u001b[0m\u001b[3;36mFalse\u001b[0m\u001b[36m, \u001b[0m\n",
            "\u001b[36mno_vcs_ignore\u001b[0m\u001b[36m=\u001b[0m\u001b[3;36mFalse\u001b[0m\u001b[36m, \u001b[0m\u001b[36mglobal\u001b[0m\u001b[36m=\u001b[0m\u001b[3;36mFalse\u001b[0m\u001b[1;36m)\u001b[0m\n",
            "\u001b[36m  seeder \u001b[0m\u001b[1;36mFromAppData\u001b[0m\u001b[1;36m(\u001b[0m\u001b[36mdownload\u001b[0m\u001b[36m=\u001b[0m\u001b[3;36mFalse\u001b[0m\u001b[36m, \u001b[0m\u001b[36mpip\u001b[0m\u001b[36m=\u001b[0m\u001b[36mbundle\u001b[0m\u001b[36m, \u001b[0m\u001b[36msetuptools\u001b[0m\u001b[36m=\u001b[0m\u001b[36mbundle\u001b[0m\u001b[36m, \u001b[0m\u001b[36mwheel\u001b[0m\u001b[36m=\u001b[0m\u001b[36mbundle\u001b[0m\u001b[36m, \u001b[0m\u001b[36mvia\u001b[0m\u001b[36m=\u001b[0m\u001b[36mcopy\u001b[0m\u001b[36m, \u001b[0m\n",
            "\u001b[36mapp_data_dir\u001b[0m\u001b[36m=\u001b[0m\u001b[36m/root/.local/share/\u001b[0m\u001b[36mvirtualenv\u001b[0m\u001b[1;36m)\u001b[0m\n",
            "\u001b[36m    added seed packages: \u001b[0m\u001b[36mpip\u001b[0m\u001b[36m==\u001b[0m\u001b[1;36m24.2\u001b[0m\u001b[36m, \u001b[0m\u001b[36msetuptools\u001b[0m\u001b[36m==\u001b[0m\u001b[1;36m75.2\u001b[0m\u001b[36m.\u001b[0m\u001b[1;36m0\u001b[0m\u001b[36m, \u001b[0m\u001b[36mwheel\u001b[0m\u001b[36m==\u001b[0m\u001b[1;36m0.44\u001b[0m\u001b[36m.\u001b[0m\u001b[1;36m0\u001b[0m\n",
            "\u001b[36m  activators \u001b[0m\n",
            "\u001b[36mBashActivator,CShellActivator,FishActivator,NushellActivator,PowerShellActivator,PythonActivator\u001b[0m\n",
            "\n",
            "✔ Successfully created virtual environment!\n",
            "\u001b[2K\u001b[32m⠇\u001b[0m Creating virtual environment...\n",
            "\u001b[1A\u001b[2K\u001b[32mVirtualenv location: \u001b[0m\u001b[32m/root/.local/share/virtualenvs/\u001b[0m\u001b[32mml_homework-sfqKTmep\u001b[0m\n",
            "\u001b[1mCreating a Pipfile for this project\u001b[0m\u001b[1;33m...\u001b[0m\n",
            "\u001b[1mPipfile.lock not found, creating\u001b[0m\u001b[1;33m...\u001b[0m\n",
            "Locking\u001b[0m \u001b[33m[packages]\u001b[0m dependencies...\u001b[0m\n",
            "Locking\u001b[0m \u001b[33m[dev-packages]\u001b[0m dependencies...\u001b[0m\n",
            "\u001b[1mUpdated Pipfile.lock (fedbd2ab7afd84cf16f128af0619749267b62277b4cb6989ef16d4bef6e4eef2)!\u001b[0m\n",
            "To activate this project's virtualenv, run \u001b[33mpipenv shell\u001b[0m.\n",
            "Alternatively, run a command inside the virtualenv with \u001b[33mpipenv run\u001b[0m.\n",
            "\u001b[1;32mInstalling scikit-learn==1.5.2...\u001b[0m\n",
            "✔ Installation Succeeded\n",
            "\u001b[?25lBuilding requirements...\n",
            "\u001b[2KResolving dependencies...\n",
            "\u001b[2K✔ Success!\n",
            "\u001b[2K\u001b[32m⠴\u001b[0m Locking packages...\n",
            "\u001b[1A\u001b[2K\u001b[?25lBuilding requirements...\n",
            "\u001b[2KResolving dependencies...\n",
            "\u001b[2K✔ Success!\n",
            "\u001b[2K\u001b[32m⠹\u001b[0m Locking packages...\n",
            "\u001b[1A\u001b[2KTo activate this project's virtualenv, run \u001b[33mpipenv shell\u001b[0m.\n",
            "Alternatively, run a command inside the virtualenv with \u001b[33mpipenv run\u001b[0m.\n",
            "\u001b[1mInstalling dependencies from Pipfile.lock (0b43dd)...\u001b[0m\n",
            "\u001b[32mAll dependencies are now up-to-date!\u001b[0m\n",
            "\u001b[1mInstalling dependencies from Pipfile.lock (0b43dd)...\u001b[0m\n"
          ]
        }
      ]
    },
    {
      "cell_type": "markdown",
      "source": [
        "Answer2 - sha256:03b6158efa3faaf1feea3faa884c840ebd61b6484167c711548fce208ea09445"
      ],
      "metadata": {
        "id": "MfXA8atVTnKR"
      }
    },
    {
      "cell_type": "code",
      "source": [
        "PREFIX=\"https://raw.githubusercontent.com/DataTalksClub/machine-learning-zoomcamp/master/cohorts/2024/05-deployment/homework\"\n",
        "!wget $PREFIX/model1.bin\n",
        "!wget $PREFIX/dv.bin"
      ],
      "metadata": {
        "colab": {
          "base_uri": "https://localhost:8080/"
        },
        "id": "iej-iJ8KTyN_",
        "outputId": "405ba1a2-998f-4e97-a0ba-922583ac34d8"
      },
      "execution_count": null,
      "outputs": [
        {
          "output_type": "stream",
          "name": "stdout",
          "text": [
            "--2024-10-25 14:30:11--  https://raw.githubusercontent.com/DataTalksClub/machine-learning-zoomcamp/master/cohorts/2024/05-deployment/homework/model1.bin\n",
            "Resolving raw.githubusercontent.com (raw.githubusercontent.com)... 185.199.111.133, 185.199.110.133, 185.199.109.133, ...\n",
            "Connecting to raw.githubusercontent.com (raw.githubusercontent.com)|185.199.111.133|:443... connected.\n",
            "HTTP request sent, awaiting response... 200 OK\n",
            "Length: 850 [application/octet-stream]\n",
            "Saving to: ‘model1.bin’\n",
            "\n",
            "\rmodel1.bin            0%[                    ]       0  --.-KB/s               \rmodel1.bin          100%[===================>]     850  --.-KB/s    in 0s      \n",
            "\n",
            "2024-10-25 14:30:11 (41.9 MB/s) - ‘model1.bin’ saved [850/850]\n",
            "\n",
            "--2024-10-25 14:30:11--  https://raw.githubusercontent.com/DataTalksClub/machine-learning-zoomcamp/master/cohorts/2024/05-deployment/homework/dv.bin\n",
            "Resolving raw.githubusercontent.com (raw.githubusercontent.com)... 185.199.108.133, 185.199.109.133, 185.199.110.133, ...\n",
            "Connecting to raw.githubusercontent.com (raw.githubusercontent.com)|185.199.108.133|:443... connected.\n",
            "HTTP request sent, awaiting response... 200 OK\n",
            "Length: 560 [application/octet-stream]\n",
            "Saving to: ‘dv.bin’\n",
            "\n",
            "dv.bin              100%[===================>]     560  --.-KB/s    in 0s      \n",
            "\n",
            "2024-10-25 14:30:11 (22.7 MB/s) - ‘dv.bin’ saved [560/560]\n",
            "\n"
          ]
        }
      ]
    },
    {
      "cell_type": "markdown",
      "source": [
        "# Python Script for loading models with Pickle"
      ],
      "metadata": {
        "id": "puvyZHjYUiUe"
      }
    },
    {
      "cell_type": "code",
      "source": [
        "import pickle\n",
        "\n",
        "# Load the pre-trained model and DictVectorizer\n",
        "with open('model1.bin', 'rb') as f_model:\n",
        "    model = pickle.load(f_model)\n",
        "\n",
        "with open('dv.bin', 'rb') as f_dv:\n",
        "    dv = pickle.load(f_dv)\n",
        "\n",
        "# Client data\n",
        "#client_data = {\"job\": \"management\", \"duration\": 400, \"poutcome\": \"success\"}\n",
        "client_data = {\"job\": \"student\", \"duration\": 280, \"poutcome\": \"failure\"}\n",
        "\n",
        "# Transform the client data using the DictVectorizer\n",
        "X = dv.transform([client_data])\n",
        "\n",
        "# Score the client data using the loaded model\n",
        "score = model.predict_proba(X)[0, 1]  # Probability of the positive class\n",
        "\n",
        "print(f\"Score for the client: {score:.4f}\")\n"
      ],
      "metadata": {
        "colab": {
          "base_uri": "https://localhost:8080/"
        },
        "id": "ditkG-z-UpaE",
        "outputId": "2521b582-3e2c-4ed0-ecfa-ce3c884a6d04"
      },
      "execution_count": null,
      "outputs": [
        {
          "output_type": "stream",
          "name": "stdout",
          "text": [
            "Score for the client: 0.3348\n"
          ]
        }
      ]
    },
    {
      "cell_type": "markdown",
      "source": [
        "Answer3 : 0.759"
      ],
      "metadata": {
        "id": "7XLrnCZkUzdD"
      }
    },
    {
      "cell_type": "markdown",
      "source": [
        "Answer4: 0.335"
      ],
      "metadata": {
        "id": "c3032nA3Iu1r"
      }
    },
    {
      "cell_type": "code",
      "source": [
        "!pip install Flask gunicorn"
      ],
      "metadata": {
        "colab": {
          "base_uri": "https://localhost:8080/"
        },
        "id": "tazrII2FGGKF",
        "outputId": "56287a80-f1cd-48e7-fe14-d00d004914ba"
      },
      "execution_count": null,
      "outputs": [
        {
          "output_type": "stream",
          "name": "stdout",
          "text": [
            "Requirement already satisfied: Flask in /usr/local/lib/python3.10/dist-packages (2.2.5)\n",
            "Collecting gunicorn\n",
            "  Downloading gunicorn-23.0.0-py3-none-any.whl.metadata (4.4 kB)\n",
            "Requirement already satisfied: Werkzeug>=2.2.2 in /usr/local/lib/python3.10/dist-packages (from Flask) (3.0.4)\n",
            "Requirement already satisfied: Jinja2>=3.0 in /usr/local/lib/python3.10/dist-packages (from Flask) (3.1.4)\n",
            "Requirement already satisfied: itsdangerous>=2.0 in /usr/local/lib/python3.10/dist-packages (from Flask) (2.2.0)\n",
            "Requirement already satisfied: click>=8.0 in /usr/local/lib/python3.10/dist-packages (from Flask) (8.1.7)\n",
            "Requirement already satisfied: packaging in /usr/local/lib/python3.10/dist-packages (from gunicorn) (24.1)\n",
            "Requirement already satisfied: MarkupSafe>=2.0 in /usr/local/lib/python3.10/dist-packages (from Jinja2>=3.0->Flask) (3.0.2)\n",
            "Downloading gunicorn-23.0.0-py3-none-any.whl (85 kB)\n",
            "\u001b[2K   \u001b[90m━━━━━━━━━━━━━━━━━━━━━━━━━━━━━━━━━━━━━━━━\u001b[0m \u001b[32m85.0/85.0 kB\u001b[0m \u001b[31m2.8 MB/s\u001b[0m eta \u001b[36m0:00:00\u001b[0m\n",
            "\u001b[?25hInstalling collected packages: gunicorn\n",
            "Successfully installed gunicorn-23.0.0\n"
          ]
        }
      ]
    },
    {
      "cell_type": "code",
      "source": [
        "from flask import Flask, request, jsonify\n",
        "import pickle\n",
        "\n",
        "# Load the model and DictVectorizer\n",
        "with open('model1.bin', 'rb') as f_model:\n",
        "    model = pickle.load(f_model)\n",
        "\n",
        "with open('dv.bin', 'rb') as f_dv:\n",
        "    dv = pickle.load(f_dv)\n",
        "\n",
        "app = Flask(__name__)\n",
        "\n",
        "@app.route('/predict', methods=['POST'])\n",
        "def predict():\n",
        "    client_data = request.get_json()\n",
        "    X = dv.transform([client_data])  # Transform client data\n",
        "    score = model.predict_proba(X)[0, 1]  # Get the probability for the positive class\n",
        "    return jsonify({\"score\": score})\n",
        "\n",
        "if __name__ == \"__main__\":\n",
        "    app.run(debug=True, host=\"0.0.0.0\", port=9696)\n"
      ],
      "metadata": {
        "colab": {
          "base_uri": "https://localhost:8080/"
        },
        "id": "Bnm0VN6IGMny",
        "outputId": "c275fc5d-aa33-4f24-d297-bbe60c536a62"
      },
      "execution_count": null,
      "outputs": [
        {
          "output_type": "stream",
          "name": "stdout",
          "text": [
            " * Serving Flask app '__main__'\n",
            " * Debug mode: on\n"
          ]
        },
        {
          "output_type": "stream",
          "name": "stderr",
          "text": [
            "INFO:werkzeug:\u001b[31m\u001b[1mWARNING: This is a development server. Do not use it in a production deployment. Use a production WSGI server instead.\u001b[0m\n",
            " * Running on all addresses (0.0.0.0)\n",
            " * Running on http://127.0.0.1:9696\n",
            " * Running on http://172.28.0.12:9696\n",
            "INFO:werkzeug:\u001b[33mPress CTRL+C to quit\u001b[0m\n",
            "INFO:werkzeug: * Restarting with stat\n"
          ]
        }
      ]
    },
    {
      "cell_type": "code",
      "source": [
        "import requests\n",
        "\n",
        "url = \"http://127.0.0.1:9696/predict\"  # Update with your server address if running locally\n",
        "client = {\"job\": \"student\", \"duration\": 280, \"poutcome\": \"failure\"}\n",
        "\n",
        "response = requests.post(url, json=client).json()\n",
        "print(response.json())"
      ],
      "metadata": {
        "id": "-sg-I1JKINS2"
      },
      "execution_count": null,
      "outputs": []
    },
    {
      "cell_type": "markdown",
      "source": [
        "Answer5: 245 MB"
      ],
      "metadata": {
        "id": "abFB4YCZgiGj"
      }
    },
    {
      "cell_type": "markdown",
      "source": [
        "Answer6: 0.757"
      ],
      "metadata": {
        "id": "2SGbl2Wz1JNE"
      }
    },
    {
      "cell_type": "code",
      "source": [],
      "metadata": {
        "id": "fNvFWINK1IzZ"
      },
      "execution_count": null,
      "outputs": []
    }
  ]
}